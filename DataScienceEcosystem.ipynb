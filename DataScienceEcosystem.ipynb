{
 "cells": [
  {
   "cell_type": "markdown",
   "id": "02079740-8084-4ac2-abb9-f340ce861492",
   "metadata": {},
   "source": [
    "# Data Science Tools and Ecosystem"
   ]
  },
  {
   "cell_type": "markdown",
   "id": "5d6a9ad0-e2c2-4201-8304-39120421393c",
   "metadata": {},
   "source": [
    "In this notebook, Data Science Tools and Ecosystem are summarized."
   ]
  },
  {
   "cell_type": "markdown",
   "id": "626670ba-669e-4065-897a-cf33fd7c2b76",
   "metadata": {},
   "source": [
    "**Objectives:**\n",
    "- List popular languages for Data Science\n",
    "- List common libraries used in Data Science\n",
    "- Create tables in Markdown\n",
    "- Evaluate arithmetic expressions in Python"
   ]
  },
  {
   "cell_type": "markdown",
   "id": "a2eebf85-4235-477e-93d8-1b5b675a4011",
   "metadata": {},
   "source": [
    "Some of the popular languages that Data Scientists use include, but are not limited to:\n",
    "1. Python\n",
    "2. SQL\n",
    "3. R\n",
    "4. VBA (Visual Basic for Applications)\n",
    "5. Julia\n",
    "6. JavaScript\n",
    "7. Java\n",
    "8. Scala\n",
    "9. SAS\n",
    "10. MATLAB\n",
    "11. C/C++\n",
    "12. Swift"
   ]
  },
  {
   "cell_type": "markdown",
   "id": "2b32ea94-fd69-4729-9e32-71259229510a",
   "metadata": {},
   "source": [
    "Some of the commonly used libraries used by Data Scientists include, but are not limited to:\n",
    "1. TensorFlow\n",
    "2. NumPy\n",
    "3. SciPy\n",
    "4. Pandas\n",
    "5. Matplotlib\n",
    "6. Keras\n",
    "7. SciKit-Learn\n",
    "8. PyTorch\n",
    "9. Scrapy\n",
    "10. LightGBM"
   ]
  },
  {
   "cell_type": "markdown",
   "id": "b19fa334-463b-4d99-92f6-73c3ede6de5d",
   "metadata": {},
   "source": [
    "| Data Science Tools |\n",
    "| -------------|\n",
    "| Jupyter Notebook |\n",
    "| RStudio |\n",
    "| Visual Studio Code |"
   ]
  },
  {
   "cell_type": "markdown",
   "id": "f3a43820-341d-4059-8e0a-fe8c1e731e3a",
   "metadata": {},
   "source": [
    "### Below are a few examples of evaluating arithmetic expressions in Python"
   ]
  },
  {
   "cell_type": "code",
   "execution_count": 22,
   "id": "dadd36de-61eb-4add-8e8b-b56a8f853b0d",
   "metadata": {},
   "outputs": [
    {
     "data": {
      "text/plain": [
       "17"
      ]
     },
     "execution_count": 22,
     "metadata": {},
     "output_type": "execute_result"
    }
   ],
   "source": [
    "#This a simple arithmetic expression to mutiply then add integers\n",
    "(3*4)+5"
   ]
  },
  {
   "cell_type": "code",
   "execution_count": 23,
   "id": "1cc97666-2f92-4857-9426-6d5345fcef31",
   "metadata": {},
   "outputs": [
    {
     "name": "stdin",
     "output_type": "stream",
     "text": [
      "Enter time in minutes 200\n"
     ]
    },
    {
     "name": "stdout",
     "output_type": "stream",
     "text": [
      "Hours = 3.3333333333333335\n"
     ]
    }
   ],
   "source": [
    "#This will convert 200 minutes to hours by dividing by 60\n",
    "min = int(input(\"Enter time in minutes\"))\n",
    "h = min/60\n",
    "m = min%60\n",
    "print(\"Hours =\",h)"
   ]
  },
  {
   "cell_type": "markdown",
   "id": "3f9b79b5-e6d8-4484-8383-e62a6db023ba",
   "metadata": {},
   "source": [
    "## Author\n",
    "Jason Kwon"
   ]
  },
  {
   "cell_type": "code",
   "execution_count": null,
   "id": "71f292b4-ed4b-46b8-a573-f1ddec2a654f",
   "metadata": {},
   "outputs": [],
   "source": []
  }
 ],
 "metadata": {
  "kernelspec": {
   "display_name": "Python 3 (ipykernel)",
   "language": "python",
   "name": "python3"
  },
  "language_info": {
   "codemirror_mode": {
    "name": "ipython",
    "version": 3
   },
   "file_extension": ".py",
   "mimetype": "text/x-python",
   "name": "python",
   "nbconvert_exporter": "python",
   "pygments_lexer": "ipython3",
   "version": "3.12.9"
  }
 },
 "nbformat": 4,
 "nbformat_minor": 5
}
